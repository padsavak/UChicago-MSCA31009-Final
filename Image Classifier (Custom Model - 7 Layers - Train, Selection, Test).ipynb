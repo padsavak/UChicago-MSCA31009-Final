{
 "cells": [
  {
   "cell_type": "markdown",
   "id": "bc7736ac-6bf7-4c08-955e-5b9e48b40d55",
   "metadata": {},
   "source": [
    "# Yelp Restaurant Image Classifier (Custom Model - 7 Layers)\n",
    "* Author: Peerapak Adsavakulchai\n",
    "* Email: padsavak@uchicago.edu\n",
    "* Purpose: University of Chicago MSCA 31009 Final Project"
   ]
  },
  {
   "cell_type": "markdown",
   "id": "fc6b8b4a-a5e1-4d04-a7f8-6e1490f8f59e",
   "metadata": {},
   "source": [
    "### Installation of Packages\n",
    "Run if not already installed"
   ]
  },
  {
   "cell_type": "code",
   "execution_count": 1,
   "id": "20418d17-de7c-46c6-a98d-2cf6c38def76",
   "metadata": {},
   "outputs": [],
   "source": [
    "!pip install tensorflow --quiet"
   ]
  },
  {
   "cell_type": "code",
   "execution_count": 2,
   "id": "bc9bb975-5407-4652-a08e-09d42a6a9f13",
   "metadata": {},
   "outputs": [],
   "source": [
    "!pip install -U efficientnet --quiet"
   ]
  },
  {
   "cell_type": "code",
   "execution_count": 3,
   "id": "a777722b-7db6-4e7c-826a-6e00467fc6e9",
   "metadata": {},
   "outputs": [],
   "source": [
    "!pip install keras-tuner --quiet"
   ]
  },
  {
   "cell_type": "markdown",
   "id": "3adbd185-9091-42d5-b924-521c02b0ca16",
   "metadata": {},
   "source": [
    "### Importing Packages and Dependencies"
   ]
  },
  {
   "cell_type": "code",
   "execution_count": 4,
   "id": "2c329cb6-1bac-469c-8402-26dd45f5f200",
   "metadata": {},
   "outputs": [
    {
     "name": "stderr",
     "output_type": "stream",
     "text": [
      "2023-05-11 20:00:37.985650: I tensorflow/core/platform/cpu_feature_guard.cc:193] This TensorFlow binary is optimized with oneAPI Deep Neural Network Library (oneDNN) to use the following CPU instructions in performance-critical operations:  AVX2 FMA\n",
      "To enable them in other operations, rebuild TensorFlow with the appropriate compiler flags.\n",
      "2023-05-11 20:00:39.591018: W tensorflow/compiler/xla/stream_executor/platform/default/dso_loader.cc:64] Could not load dynamic library 'libnvinfer.so.7'; dlerror: libnvinfer.so.7: cannot open shared object file: No such file or directory; LD_LIBRARY_PATH: /usr/local/cuda/lib64:/usr/local/nccl2/lib:/usr/local/cuda/extras/CUPTI/lib64\n",
      "2023-05-11 20:00:39.591271: W tensorflow/compiler/xla/stream_executor/platform/default/dso_loader.cc:64] Could not load dynamic library 'libnvinfer_plugin.so.7'; dlerror: libnvinfer_plugin.so.7: cannot open shared object file: No such file or directory; LD_LIBRARY_PATH: /usr/local/cuda/lib64:/usr/local/nccl2/lib:/usr/local/cuda/extras/CUPTI/lib64\n",
      "2023-05-11 20:00:39.591294: W tensorflow/compiler/tf2tensorrt/utils/py_utils.cc:38] TF-TRT Warning: Cannot dlopen some TensorRT libraries. If you would like to use Nvidia GPU with TensorRT, please make sure the missing libraries mentioned above are installed properly.\n",
      "/opt/conda/lib/python3.7/site-packages/ipykernel_launcher.py:11: DeprecationWarning: `import kerastuner` is deprecated, please use `import keras_tuner`.\n",
      "  # This is added back by InteractiveShellApp.init_path()\n"
     ]
    }
   ],
   "source": [
    "from google.cloud import storage\n",
    "from sklearn.metrics import accuracy_score\n",
    "\n",
    "import tensorflow as tf\n",
    "from tensorflow import keras\n",
    "\n",
    "from tensorflow.python.keras.models import Sequential\n",
    "from tensorflow.keras.optimizers import Adam, SGD, RMSprop\n",
    "\n",
    "import keras_tuner as kt\n",
    "from kerastuner.engine.hyperparameters import HyperParameters\n",
    "from kerastuner.tuners import RandomSearch\n"
   ]
  },
  {
   "cell_type": "markdown",
   "id": "01f9ae4c-6812-4847-8e12-3ff912d2a93c",
   "metadata": {},
   "source": [
    "### GCP Parameters"
   ]
  },
  {
   "cell_type": "code",
   "execution_count": 5,
   "id": "f25c9e3a-7bf4-4d77-9917-dcd6196c1a27",
   "metadata": {},
   "outputs": [],
   "source": [
    "storage_client = storage.Client()\n",
    "bucket_name = 'final-project-31009-peerapak-a'\n",
    "bucket = storage_client.get_bucket(bucket_name)"
   ]
  },
  {
   "cell_type": "markdown",
   "id": "50c97ee6-2795-40bc-bcb5-434e28b285f1",
   "metadata": {},
   "source": [
    "### Data Processing"
   ]
  },
  {
   "cell_type": "code",
   "execution_count": 6,
   "id": "cb8c9459-de71-4746-bdf0-47648b7aa68f",
   "metadata": {},
   "outputs": [],
   "source": [
    "train_datagen = tf.keras.preprocessing.image.ImageDataGenerator(\n",
    "    rescale = 1./255.,\n",
    "    rotation_range = 40, \n",
    "    width_shift_range = 0.2, \n",
    "    height_shift_range = 0.2, \n",
    "    shear_range = 0.2, \n",
    "    zoom_range = 0.2, \n",
    "    horizontal_flip = True)\n",
    "\n",
    "\n",
    "test_datagen = tf.keras.preprocessing.image.ImageDataGenerator(rescale = 1.0/255.)"
   ]
  },
  {
   "cell_type": "code",
   "execution_count": 7,
   "id": "478265b1-4115-4002-b3a2-a7ffe4dc7377",
   "metadata": {},
   "outputs": [],
   "source": [
    "#Setting up paths to image files\n",
    "\n",
    "path_train = '/home/jupyter/Data/Train Data/'\n",
    "path_test = '/home/jupyter/Data/Test Data/'\n"
   ]
  },
  {
   "cell_type": "code",
   "execution_count": 8,
   "id": "3ff48af2-9f86-49aa-b3e3-72fa8ae7e9b5",
   "metadata": {},
   "outputs": [
    {
     "name": "stdout",
     "output_type": "stream",
     "text": [
      "Found 1379 images belonging to 4 classes.\n",
      "Found 589 images belonging to 4 classes.\n"
     ]
    }
   ],
   "source": [
    "train_generator224 = train_datagen.flow_from_directory(\n",
    "    path_train, \n",
    "    batch_size = 32, \n",
    "    class_mode = 'categorical', \n",
    "    target_size = (224, 224)\n",
    ")\n",
    "\n",
    "\n",
    "test_generator224 = test_datagen.flow_from_directory(\n",
    "    path_test,  \n",
    "    batch_size = 32, \n",
    "    class_mode = 'categorical', \n",
    "    target_size = (224, 224))\n"
   ]
  },
  {
   "cell_type": "code",
   "execution_count": 9,
   "id": "7938a886-c7eb-481f-9a90-aea69bd2eaaa",
   "metadata": {},
   "outputs": [
    {
     "data": {
      "text/plain": [
       "(224, 224, 3)"
      ]
     },
     "execution_count": 9,
     "metadata": {},
     "output_type": "execute_result"
    }
   ],
   "source": [
    "train_generator224.image_shape"
   ]
  },
  {
   "cell_type": "markdown",
   "id": "b51c0013-5aaf-41c9-ab27-8fde2e3e15b9",
   "metadata": {},
   "source": [
    "## Custom Model Training\n",
    "\n",
    "* Different / customed convolutional hidden layers \n",
    "* Same dense layers as the 'best-in-class' models (for equivalent comparison)\n",
    "\n",
    "* Introduces 1 layer of batch normalization since the model will be shallower"
   ]
  },
  {
   "cell_type": "code",
   "execution_count": 10,
   "id": "1739b659-d26f-464b-a207-0ea3bd8fe664",
   "metadata": {},
   "outputs": [],
   "source": [
    "hp = HyperParameters()"
   ]
  },
  {
   "cell_type": "code",
   "execution_count": 11,
   "id": "c627ad14-d70d-4997-8e9a-8fb37018bff9",
   "metadata": {},
   "outputs": [],
   "source": [
    "def create_custom(hp):\n",
    "\n",
    "    #Loading the base VGG16 Model  ----------------------------------\n",
    "    base_model = tf.keras.Sequential()\n",
    "    \n",
    "    #1st convolutional layer\n",
    "    base_model.add(tf.keras.layers.Conv2D(filters = 16, kernel_size = (3,3), activation = 'relu', input_shape = train_generator224.image_shape, padding = 'same'))\n",
    "    #base_model.add(tf.keras.layers.Conv2D(filters = 16, kernel_size = (3,3), activation = 'relu', padding = 'same'))\n",
    "    base_model.add(tf.keras.layers.MaxPool2D(pool_size = (2,2), padding = 'same'))\n",
    "    \n",
    "    #2nd convolutional layer\n",
    "    base_model.add(tf.keras.layers.Conv2D(filters = 32, kernel_size = (3,3), activation = 'relu', padding = 'same'))\n",
    "    #base_model.add(tf.keras.layers.Conv2D(filters = 32, kernel_size = (3,3), activation = 'relu', padding = 'same'))\n",
    "    base_model.add(tf.keras.layers.MaxPool2D(pool_size = (2,2), padding = 'same'))\n",
    "\n",
    "    #3rd convolutional layer\n",
    "    base_model.add(tf.keras.layers.Conv2D(filters = 64, kernel_size = (3,3), activation = 'relu', padding = 'same'))\n",
    "    #base_model.add(tf.keras.layers.Conv2D(filters = 64, kernel_size = (3,3), activation = 'relu', padding = 'same'))\n",
    "    base_model.add(tf.keras.layers.MaxPool2D(pool_size = (2,2), padding = 'same'))\n",
    "\n",
    "    #4th convolutional layer\n",
    "    base_model.add(tf.keras.layers.Conv2D(filters = 128, kernel_size = (3,3), activation = 'relu', padding = 'same'))\n",
    "    #base_model.add(tf.keras.layers.Conv2D(filters = 128, kernel_size = (3,3), activation = 'relu', padding = 'same'))\n",
    "    base_model.add(tf.keras.layers.MaxPool2D(pool_size = (2,2), padding = 'same'))\n",
    "    \n",
    "    #5th convolutional layer\n",
    "    base_model.add(tf.keras.layers.Conv2D(filters = 256, kernel_size = (3,3), activation = 'relu', padding = 'same'))\n",
    "    #base_model.add(tf.keras.layers.Conv2D(filters = 256, kernel_size = (3,3), activation = 'relu', padding = 'same'))\n",
    "    base_model.add(tf.keras.layers.MaxPool2D(pool_size = (2,2), padding = 'same'))\n",
    "    \n",
    "    #6th convolutional layer\n",
    "    base_model.add(tf.keras.layers.Conv2D(filters = 512, kernel_size = (3,3), activation = 'relu', padding = 'same'))\n",
    "    #base_model.add(tf.keras.layers.Conv2D(filters = 512, kernel_size = (3,3), activation = 'relu', padding = 'same'))\n",
    "    base_model.add(tf.keras.layers.MaxPool2D(pool_size = (2,2), padding = 'same'))\n",
    "    \n",
    "    #7th convolutional layer\n",
    "    base_model.add(tf.keras.layers.Conv2D(filters = 1024, kernel_size = (3,3), activation = 'relu', padding = 'same'))\n",
    "    #base_model.add(tf.keras.layers.Conv2D(filters = 1024, kernel_size = (3,3), activation = 'relu', padding = 'same'))\n",
    "    base_model.add(tf.keras.layers.MaxPool2D(pool_size = (2,2), padding = 'same'))\n",
    "    \n",
    "    '''\n",
    "    #8th convolutional layer\n",
    "    base_model.add(tf.keras.layers.Conv2D(filters = 2048, kernel_size = (3,3), activation = 'relu', padding = 'same'))\n",
    "    #base_model.add(tf.keras.layers.Conv2D(filters = 2048, kernel_size = (3,3), activation = 'relu', padding = 'same'))\n",
    "    base_model.add(tf.keras.layers.MaxPool2D(pool_size = (2,2), padding = 'same'))\n",
    "    \n",
    "    #9th convolutional layer\n",
    "    base_model.add(tf.keras.layers.Conv2D(filters = 4096, kernel_size = (3,3), activation = 'relu', padding = 'same'))\n",
    "    #base_model.add(tf.keras.layers.Conv2D(filters = 4096, kernel_size = (3,3), activation = 'relu', padding = 'same'))\n",
    "    base_model.add(tf.keras.layers.MaxPool2D(pool_size = (2,2), padding = 'same'))\n",
    "    \n",
    "    #10th convolutional layer\n",
    "    base_model.add(tf.keras.layers.Conv2D(filters = 8192, kernel_size = (3,3), activation = 'relu', padding = 'same'))\n",
    "    #base_model.add(tf.keras.layers.Conv2D(filters = 8192, kernel_size = (3,3), activation = 'relu', padding = 'same'))\n",
    "    base_model.add(tf.keras.layers.MaxPool2D(pool_size = (2,2), padding = 'same'))\n",
    "    '''\n",
    "    \n",
    "    #Recreating the Dense layers ----------------------------------\n",
    "\n",
    "    #Dense Layer\n",
    "    base_model.add(tf.keras.layers.GlobalAveragePooling2D())\n",
    "    base_model.add(tf.keras.layers.Dense(512, activation='relu'))\n",
    "    #Add Batch Normalization\n",
    "    base_model.add(tf.keras.layers.BatchNormalization())\n",
    "    # Add a dropout rate of 0.5\n",
    "    base_model.add(tf.keras.layers.Dropout(0.5))\n",
    "    base_model.add(tf.keras.layers.Dense(train_generator224.num_classes, activation = 'softmax'))\n",
    "    \n",
    "    \n",
    "    model = base_model\n",
    "\n",
    "#Hyper Parameters ------------------------------------------\n",
    "    \n",
    "    #hp = HyperParameters()\n",
    "    lr = hp.Float('learning_rate', 1e-4, 1)\n",
    "    loss = hp.Choice('loss', ['categorical_crossentropy', 'sparse_categorical_crossentropy'])\n",
    "    opt = hp.Choice('optimizer', ['adam' ,'rmsprop', 'sgd'])\n",
    "    \n",
    "    if opt == 'adam':\n",
    "        optimizer = keras.optimizers.Adam(learning_rate = lr)\n",
    "        \n",
    "    elif opt == 'rmsprop':\n",
    "        optimizer = keras.optimizers.RMSprop(learning_rate = lr)\n",
    "        \n",
    "    else:\n",
    "        optimizer = keras.optimizers.SGD(learning_rate = lr)\n",
    "\n",
    "   \n",
    "\n",
    "    #Model Compiling -----------------------------------------\n",
    "    \n",
    "    model.compile(loss = loss,\n",
    "                  optimizer = optimizer,\n",
    "                  metrics=['accuracy'])\n",
    "        \n",
    "    return model\n",
    "    "
   ]
  },
  {
   "cell_type": "code",
   "execution_count": 29,
   "id": "0aaeccba-1f0e-48c8-a29d-adbcee56ef8d",
   "metadata": {},
   "outputs": [
    {
     "name": "stdout",
     "output_type": "stream",
     "text": [
      "INFO:tensorflow:Reloading Tuner from Custom_Training/Custom_5/tuner0.json\n"
     ]
    }
   ],
   "source": [
    "tuner = RandomSearch(create_custom,\n",
    "                     objective = 'accuracy',\n",
    "                     max_trials = 10,\n",
    "                     executions_per_trial = 10,\n",
    "                     directory = 'Custom_Training',\n",
    "                     project_name = 'Custom_5')"
   ]
  },
  {
   "cell_type": "code",
   "execution_count": 13,
   "id": "9228ee02-2573-40f2-8cea-ddc9a997785b",
   "metadata": {},
   "outputs": [],
   "source": [
    "stop_early = tf.keras.callbacks.EarlyStopping(monitor = 'accuracy', patience = 5)"
   ]
  },
  {
   "cell_type": "code",
   "execution_count": 14,
   "id": "8af0f3f0-150e-4fd2-afc0-9c0a3f42a55e",
   "metadata": {},
   "outputs": [
    {
     "name": "stdout",
     "output_type": "stream",
     "text": [
      "Trial 10 Complete [00h 00m 05s]\n",
      "\n",
      "Best accuracy So Far: 0.4357505410909653\n",
      "Total elapsed time: 01h 21m 44s\n",
      "INFO:tensorflow:Oracle triggered exit\n"
     ]
    }
   ],
   "source": [
    "tuner.search(train_generator224, callbacks = [stop_early])"
   ]
  },
  {
   "cell_type": "code",
   "execution_count": 15,
   "id": "cafbbba4-f0bf-4c47-9c99-19c6aae33d23",
   "metadata": {},
   "outputs": [
    {
     "name": "stdout",
     "output_type": "stream",
     "text": [
      "Best hyperparameters: {'learning_rate': 0.9013714241923597, 'loss': 'categorical_crossentropy', 'optimizer': 'sgd'}\n"
     ]
    }
   ],
   "source": [
    "best_hps = tuner.get_best_hyperparameters(num_trials=1)[0]\n",
    "\n",
    "# Print the best hyperparameters values\n",
    "print(f'Best hyperparameters: {best_hps.values}')"
   ]
  },
  {
   "cell_type": "code",
   "execution_count": 16,
   "id": "4b0600a5-7ebb-48bb-8a20-30625c1b5fc4",
   "metadata": {},
   "outputs": [],
   "source": [
    "custom_best = tuner.hypermodel.build(best_hps)"
   ]
  },
  {
   "cell_type": "code",
   "execution_count": 17,
   "id": "25f4187f-c89c-41e0-a2c6-b3cb81fd5b3c",
   "metadata": {},
   "outputs": [
    {
     "name": "stderr",
     "output_type": "stream",
     "text": [
      "/opt/conda/lib/python3.7/site-packages/ipykernel_launcher.py:1: UserWarning: `Model.fit_generator` is deprecated and will be removed in a future version. Please use `Model.fit`, which supports generators.\n",
      "  \"\"\"Entry point for launching an IPython kernel.\n"
     ]
    },
    {
     "name": "stdout",
     "output_type": "stream",
     "text": [
      "44/44 [==============================] - 71s 2s/step - loss: 5.7627 - accuracy: 0.4358\n"
     ]
    },
    {
     "data": {
      "text/plain": [
       "<keras.callbacks.History at 0x7f9b40f87f50>"
      ]
     },
     "execution_count": 17,
     "metadata": {},
     "output_type": "execute_result"
    }
   ],
   "source": [
    "custom_best.fit_generator(train_generator224, use_multiprocessing = True)"
   ]
  },
  {
   "cell_type": "code",
   "execution_count": 18,
   "id": "7b975d53-6466-48f3-83ac-0409841ea1c2",
   "metadata": {},
   "outputs": [
    {
     "name": "stderr",
     "output_type": "stream",
     "text": [
      "/opt/conda/lib/python3.7/site-packages/ipykernel_launcher.py:1: UserWarning: `Model.evaluate_generator` is deprecated and will be removed in a future version. Please use `Model.evaluate`, which supports generators.\n",
      "  \"\"\"Entry point for launching an IPython kernel.\n"
     ]
    }
   ],
   "source": [
    "loss, accuracy = custom_best.evaluate_generator(test_generator224, use_multiprocessing = True)"
   ]
  },
  {
   "cell_type": "code",
   "execution_count": 19,
   "id": "8397e768-cf92-4b61-ba03-318c98b2009f",
   "metadata": {},
   "outputs": [
    {
     "name": "stdout",
     "output_type": "stream",
     "text": [
      "Custom Test loss: 8.090377807617188\n",
      "Custom Test accuracy: 0.31409168243408203\n"
     ]
    }
   ],
   "source": [
    "print('Custom Test loss:', loss)\n",
    "print('Custom Test accuracy:', accuracy)"
   ]
  },
  {
   "cell_type": "markdown",
   "id": "74ca19d2-4370-4b12-a6cf-2469c4601571",
   "metadata": {},
   "source": [
    "## Saving Best Performing Models for Later Use"
   ]
  },
  {
   "cell_type": "code",
   "execution_count": 20,
   "id": "8dd449e8-3942-4e1c-8421-33dde072697a",
   "metadata": {},
   "outputs": [],
   "source": [
    "path_model_save = '/home/jupyter/Best Model/'"
   ]
  },
  {
   "cell_type": "code",
   "execution_count": 21,
   "id": "db14c5d9-1173-446b-980a-a740175eabf6",
   "metadata": {},
   "outputs": [],
   "source": [
    "custom_best.save(path_model_save + \"custom7.h5\")"
   ]
  },
  {
   "cell_type": "markdown",
   "id": "4e5ca90f-d887-42fa-8b85-ae7837af8cec",
   "metadata": {},
   "source": [
    "## Loading Models \n",
    "Use when reloading this worksheet after closing out GCP Instance"
   ]
  },
  {
   "cell_type": "code",
   "execution_count": 22,
   "id": "550a6e87-6136-4ad4-99ce-d8385bc74925",
   "metadata": {},
   "outputs": [],
   "source": [
    "custom_load = tf.keras.models.load_model(path_model_save + \"custom7.h5\")\n",
    "                                                                 "
   ]
  },
  {
   "cell_type": "markdown",
   "id": "da3e1121-486e-4809-956a-19e0da82ad79",
   "metadata": {},
   "source": [
    "## Predictions\n",
    "* Predicting results from the model"
   ]
  },
  {
   "cell_type": "code",
   "execution_count": 23,
   "id": "7b279c9c-4027-4107-a9bd-dfd6e98d3303",
   "metadata": {},
   "outputs": [],
   "source": [
    "true_class = test_generator224.classes"
   ]
  },
  {
   "cell_type": "code",
   "execution_count": 24,
   "id": "2dafbec2-ecbc-4876-a921-7bfd4d674060",
   "metadata": {},
   "outputs": [
    {
     "name": "stdout",
     "output_type": "stream",
     "text": [
      "19/19 [==============================] - 16s 814ms/step\n"
     ]
    }
   ],
   "source": [
    "#Predictions from each model \n",
    "\n",
    "preds = custom_load.predict(test_generator224)\n"
   ]
  },
  {
   "cell_type": "code",
   "execution_count": 25,
   "id": "5f3f56aa-d507-4f34-9f1a-bd23c35b49b7",
   "metadata": {},
   "outputs": [],
   "source": [
    "import numpy as np\n",
    "\n",
    "predicted_classes = np.argmax(preds, axis=1)\n",
    "prediction_probs = preds[np.arange(len(predicted_classes)), predicted_classes]\n"
   ]
  },
  {
   "cell_type": "code",
   "execution_count": 26,
   "id": "1f026c37-fdd8-45a1-aba4-954ebb629ada",
   "metadata": {},
   "outputs": [
    {
     "name": "stdout",
     "output_type": "stream",
     "text": [
      "              precision    recall  f1-score   support\n",
      "\n",
      "           0       0.00      0.00      0.00        57\n",
      "           1       0.00      0.00      0.00       319\n",
      "           2       0.31      1.00      0.48       185\n",
      "           3       0.00      0.00      0.00        28\n",
      "\n",
      "    accuracy                           0.31       589\n",
      "   macro avg       0.08      0.25      0.12       589\n",
      "weighted avg       0.10      0.31      0.15       589\n",
      "\n",
      "0.3140916808149406\n"
     ]
    },
    {
     "name": "stderr",
     "output_type": "stream",
     "text": [
      "/opt/conda/lib/python3.7/site-packages/sklearn/metrics/_classification.py:1318: UndefinedMetricWarning: Precision and F-score are ill-defined and being set to 0.0 in labels with no predicted samples. Use `zero_division` parameter to control this behavior.\n",
      "  _warn_prf(average, modifier, msg_start, len(result))\n",
      "/opt/conda/lib/python3.7/site-packages/sklearn/metrics/_classification.py:1318: UndefinedMetricWarning: Precision and F-score are ill-defined and being set to 0.0 in labels with no predicted samples. Use `zero_division` parameter to control this behavior.\n",
      "  _warn_prf(average, modifier, msg_start, len(result))\n",
      "/opt/conda/lib/python3.7/site-packages/sklearn/metrics/_classification.py:1318: UndefinedMetricWarning: Precision and F-score are ill-defined and being set to 0.0 in labels with no predicted samples. Use `zero_division` parameter to control this behavior.\n",
      "  _warn_prf(average, modifier, msg_start, len(result))\n"
     ]
    }
   ],
   "source": [
    "from sklearn.metrics import classification_report\n",
    "\n",
    "print(classification_report(true_class, predicted_classes))\n",
    "print(accuracy_score(true_class, predicted_classes))"
   ]
  },
  {
   "cell_type": "code",
   "execution_count": 30,
   "id": "72a4a83c-ce25-489b-8e11-c970ddcc81a7",
   "metadata": {},
   "outputs": [
    {
     "data": {
      "image/png": "[encoded data removed]",
      "text/plain": [
       "<Figure size 640x480 with 1 Axes>"
      ]
     },
     "metadata": {},
     "output_type": "display_data"
    }
   ],
   "source": [
    "import matplotlib.pyplot as plt\n",
    "\n",
    "plt.hist(predicted_classes)\n",
    "plt.xlabel('Classes')\n",
    "plt.ylabel('Frequency')\n",
    "plt.title('Histogram of Predictions from Custom Model')\n",
    "\n",
    "# Show the plot\n",
    "plt.show()"
   ]
  },
  {
   "cell_type": "code",
   "execution_count": 31,
   "id": "33e02d94-b492-44fc-a693-74fc213191ab",
   "metadata": {},
   "outputs": [
    {
     "data": {
      "image/png": "[encoded data removed]",
      "text/plain": [
       "<Figure size 640x480 with 2 Axes>"
      ]
     },
     "metadata": {},
     "output_type": "display_data"
    }
   ],
   "source": [
    "plt.hist2d(true_class, predicted_classes, bins=(4, 4), cmap=plt.cm.Blues)\n",
    "plt.colorbar()\n",
    "plt.xlabel('True Class')\n",
    "plt.ylabel('Predicted Class')\n",
    "plt.title('2D-Histogram of Predictions from Custom Model vs. Test Data')\n",
    "plt.show()"
   ]
  }
 ],
 "metadata": {
  "environment": {
   "kernel": "python3",
   "name": "common-cu110.m108",
   "type": "gcloud",
   "uri": "gcr.io/deeplearning-platform-release/base-cu110:m108"
  },
  "kernelspec": {
   "display_name": "Python 3",
   "language": "python",
   "name": "python3"
  },
  "language_info": {
   "codemirror_mode": {
    "name": "ipython",
    "version": 3
   },
   "file_extension": ".py",
   "mimetype": "text/x-python",
   "name": "python",
   "nbconvert_exporter": "python",
   "pygments_lexer": "ipython3",
   "version": "3.7.12"
  }
 },
 "nbformat": 4,
 "nbformat_minor": 5
}
