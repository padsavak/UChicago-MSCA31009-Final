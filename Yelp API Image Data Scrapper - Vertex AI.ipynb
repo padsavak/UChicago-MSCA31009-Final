{
 "cells": [
  {
   "cell_type": "markdown",
   "id": "c5e12cb6-c632-4d63-8949-15c6558bc3b2",
   "metadata": {},
   "source": [
    "## Yelp Image Data Scrapper"
   ]
  },
  {
   "cell_type": "markdown",
   "id": "875eeb56-0ce0-4a20-b8a5-5fd59f60c309",
   "metadata": {},
   "source": [
    "* Author: Peerapak Adsavakulchai\n",
    "* Email: padsavak@uchicago.edu\n",
    "* Purpose: University of Chicago MSCA 31009 Final Project\n"
   ]
  },
  {
   "cell_type": "markdown",
   "id": "0198074e-7bf4-4eb6-99c2-055cd952ad22",
   "metadata": {},
   "source": [
    "### Installation of the Yelp API\n",
    "Run if not already installed"
   ]
  },
  {
   "cell_type": "code",
   "execution_count": 1,
   "id": "7c5e12da-c220-4fae-a951-12149f163c35",
   "metadata": {},
   "outputs": [],
   "source": [
    "!pip install yelpapi --quiet"
   ]
  },
  {
   "cell_type": "markdown",
   "id": "b9c0b437-ec61-4867-88e8-6ffc26109a6c",
   "metadata": {},
   "source": [
    "### Importing Packages and Dependencies"
   ]
  },
  {
   "cell_type": "code",
   "execution_count": 2,
   "id": "bbad2608-0fd7-4cc9-b68b-be18521a2523",
   "metadata": {},
   "outputs": [],
   "source": [
    "import requests\n",
    "import json\n",
    "import yelpapi\n",
    "import itertools\n",
    "import urllib.request\n",
    "import time\n",
    "import os\n",
    "from google.cloud import storage"
   ]
  },
  {
   "cell_type": "markdown",
   "id": "a41bee5b-925a-4317-8d3d-a15872eb1b24",
   "metadata": {},
   "source": [
    "### Setting up data scrapper Parameters\n",
    "\n",
    "* Interest: Italian restaurants\n",
    "* Location: All Zip Codes in Manhattan\n",
    "* Criteria: Restaurants with pictures\n",
    "* Order: Not specified - receiving results with Yelp's default's params\n",
    "* Result Limit: None - as many as API would allow"
   ]
  },
  {
   "cell_type": "code",
   "execution_count": 3,
   "id": "ba97a486-c4c4-4ab3-8224-9fd3a91f7434",
   "metadata": {},
   "outputs": [],
   "source": [
    "#Setting up the API Key\n",
    "api_key = \"WX-9PSoMpwTQk9QwiYb9YrBC_n4-vNGXz_Upii1Njd565n2ZX3xE7jrkE2ymTBhxUCEuAx4mjMhsOsGkQ-1XAmWgNfo80H0kayOzEaFshhaCO-KQo77tgSJsZ3RUZHYx\"\n",
    "yelp_api = yelpapi.YelpAPI(api_key)\n",
    "\n",
    "# Define search parameters\n",
    "params = {\n",
    "    'term': 'italian',\n",
    "    'categories': 'restaurants',\n",
    "    'sort_by': 'rating',\n",
    "    'photos': True\n",
    "}\n",
    "\n",
    "\n",
    "manhattan_zips = [\n",
    "    '10026', '10027', '10030', '10037', '10039', # Central Harlem\n",
    "    '10001', '10011', '10018', '10019', '10020', '10036', # Chelsea and Clinton\n",
    "    '10029', '10035', # East Harlem\n",
    "    '10010', '10016', '10017', '10022', # Gramercy Park and Murray Hill\n",
    "    '10012', '10013', '10014', # Greenwich Village and Soho\n",
    "    '10004', '10005', '10006', '10007', '10038', '10280', # Lower Manhattan\n",
    "    '10002', '10003', '10009', # Lower East Side\n",
    "    '10021', '10028', '10044', '10065', '10075', '10128', # Upper East Side\n",
    "    '10023', '10024', '10025', # Upper West Side\n",
    "    '10031', '10032', '10033', '10034', '10040' # Inwood and Washington Heights\n",
    "]\n"
   ]
  },
  {
   "cell_type": "markdown",
   "id": "be453ab9-b7cb-4d1b-bb4b-2b0e81840379",
   "metadata": {},
   "source": [
    "### Business ID Query\n",
    "* Queried based on search parameters \n",
    "* Results split based on price range (target class variable)"
   ]
  },
  {
   "cell_type": "code",
   "execution_count": 4,
   "id": "c4898de3-1f0b-47b6-b743-9504b418394c",
   "metadata": {},
   "outputs": [],
   "source": [
    "#Querying a list of business IDs according to the parameters \n",
    "\n",
    "biz_id = [[],[],[],[],[]]\n",
    "\n",
    "for zip_code in manhattan_zips:\n",
    "    params['location'] = 'New York City, ' + zip_code\n",
    "    response = yelp_api.search_query(**params)\n",
    "    \n",
    "    for business in response['businesses']:\n",
    "\n",
    "        if 'price' in business:\n",
    "            if business['price'] == '$':\n",
    "                biz_id[0].append(business['id'])\n",
    "            elif business['price'] == '$$':\n",
    "                biz_id[1].append(business['id'])\n",
    "            elif business['price'] == '$$$':\n",
    "                biz_id[2].append(business['id'])\n",
    "            elif business['price'] == '$$$$':\n",
    "                biz_id[3].append(business['id'])\n",
    "        else:\n",
    "            biz_id[4].append(business['id'])"
   ]
  },
  {
   "cell_type": "code",
   "execution_count": 5,
   "id": "c600997b-22dd-4e19-98e1-c033eb01562e",
   "metadata": {},
   "outputs": [
    {
     "name": "stdout",
     "output_type": "stream",
     "text": [
      "213\n"
     ]
    },
    {
     "data": {
      "text/plain": [
       "647"
      ]
     },
     "execution_count": 5,
     "metadata": {},
     "output_type": "execute_result"
    }
   ],
   "source": [
    "#Check the number of businesses obtained with and without price filter \n",
    "\n",
    "print(len(biz_id[4])) # Number of businesses without price filter\n",
    "\n",
    "c = 0\n",
    "for i in [0,1,2,3]:\n",
    "    c = c + len(biz_id[i])\n",
    "\n",
    "c # Number of businesses with price filter"
   ]
  },
  {
   "cell_type": "markdown",
   "id": "9f27315e-4511-470c-a1a4-ab45514015f7",
   "metadata": {},
   "source": [
    "### Image URL Query\n",
    "* Queried based on business IDs obtained from the previous block\n",
    "* Results split based on price range (target class variable)"
   ]
  },
  {
   "cell_type": "code",
   "execution_count": 6,
   "id": "98ce0431-f144-44cd-b896-4cab874ba873",
   "metadata": {},
   "outputs": [],
   "source": [
    "#Querying a list of image urls according to previously obtained business IDs \n",
    "\n",
    "pics_url = [[],[],[],[],[]]\n",
    "\n",
    "for i in range(4):\n",
    "    for j in range(0, len(biz_id[i])):\n",
    "        id_ = biz_id[i][j]\n",
    "        \n",
    "        response = yelp_api.business_query(id_)\n",
    "        pics_url[i].extend(list(itertools.chain(response['photos'])))\n",
    "        \n",
    "        time.sleep(0.5)"
   ]
  },
  {
   "cell_type": "code",
   "execution_count": 7,
   "id": "9c84d69b-6542-4a89-94ae-c930a6aec6b8",
   "metadata": {},
   "outputs": [
    {
     "name": "stdout",
     "output_type": "stream",
     "text": [
      "0\n"
     ]
    },
    {
     "data": {
      "text/plain": [
       "1941"
      ]
     },
     "execution_count": 7,
     "metadata": {},
     "output_type": "execute_result"
    }
   ],
   "source": [
    "#Check the number of image urls with and without price filter \n",
    "\n",
    "print(len(pics_url[4])) # Number of urls without price filter\n",
    "\n",
    "c = 0\n",
    "for i in [0,1,2,3]:\n",
    "    c = c + len(pics_url[i])\n",
    "\n",
    "c # Number of urls with price filter"
   ]
  },
  {
   "cell_type": "markdown",
   "id": "58df4816-2b67-4235-a708-3baf3edc3e03",
   "metadata": {},
   "source": [
    "### URL to Excel\n",
    "* Saving the list of URLs to Excel in order to not have to query again after the storage refreshes"
   ]
  },
  {
   "cell_type": "code",
   "execution_count": 13,
   "id": "e79a5b89-a4e6-47ac-a4e6-9adc63f4986d",
   "metadata": {},
   "outputs": [],
   "source": [
    "#Writting the resulting file to the storage in the GCP instance \n",
    "import csv\n",
    "\n",
    "\n",
    "#gcloud compute scp path 31009finalprojectpak@image-scrape:remote-directory\n",
    "\n",
    "\n",
    "\n",
    "for i in range(4):\n",
    "    name = f'image-url{i}.csv'\n",
    "\n",
    "    #file_path = path + name\n",
    "\n",
    "    with open(name, 'w', newline='') as file:\n",
    "        writer = csv.writer(file)\n",
    "        \n",
    "        for j in range(len(pics_url[i])):\n",
    "            row = [pics_url[i][j]]\n",
    "            writer.writerow(row)\n",
    "        \n"
   ]
  },
  {
   "cell_type": "markdown",
   "id": "4eee89aa-2db7-43b1-96e4-5f53875204df",
   "metadata": {},
   "source": [
    "### Saving Images in GCP buckets\n",
    "* Automatically train-test splitting data with train split = 0.7 "
   ]
  },
  {
   "cell_type": "code",
   "execution_count": 17,
   "id": "e220965d-7cfa-4d2b-983b-c1d7a5a38926",
   "metadata": {},
   "outputs": [],
   "source": [
    "\n",
    "train_split = 0.7\n",
    "\n",
    "path_train0 = 'Data/Train Data/Class 0'\n",
    "path_train1 = 'Data/Train Data/Class 1'\n",
    "path_train2 = 'Data/Train Data/Class 2'\n",
    "path_train3 = 'Data/Train Data/Class 3'\n",
    "\n",
    "path_test0 = 'Data/Test Data/Class 0'\n",
    "path_test1 = 'Data/Test Data/Class 1'\n",
    "path_test2 = 'Data/Test Data/Class 2'\n",
    "path_test3 = 'Data/Test Data/Class 3'"
   ]
  },
  {
   "cell_type": "code",
   "execution_count": 18,
   "id": "7b6e0e46-0e05-478e-88a0-0b6393ae36ad",
   "metadata": {},
   "outputs": [],
   "source": [
    "storage_client = storage.Client()\n",
    "bucket_name = 'final-project-31009-peerapak-a'\n",
    "bucket = storage_client.get_bucket(bucket_name)"
   ]
  },
  {
   "cell_type": "code",
   "execution_count": null,
   "id": "f76ce209-5ae3-4e85-bf69-3981bf916e6f",
   "metadata": {},
   "outputs": [
    {
     "name": "stdout",
     "output_type": "stream",
     "text": [
      "All done for batch 0\n",
      "All done for batch 1\n"
     ]
    }
   ],
   "source": [
    "for i in [0,1,2,3]:\n",
    "    var_name_train = f'path_train{i}'\n",
    "    var_name_test = f'path_test{i}'\n",
    "    \n",
    "    \n",
    "    var_value_train = locals()[var_name_train]\n",
    "    var_value_test = locals()[var_name_test]\n",
    "    \n",
    "    train = []\n",
    "    test = []\n",
    "    \n",
    "\n",
    "    for j in range(0,len(pics_url[i])):\n",
    "        if len(train) < round((train_split * len(pics_url[i]))):\n",
    "            train.append(j)\n",
    "            \n",
    "            image_content = urllib.request.urlopen(pics_url[i][j]).read()\n",
    "            filename = f'price_class{i}_image_{j}_train.jpg'\n",
    "            bucket_path = os.path.join(var_value_train, filename)\n",
    "            \n",
    "            blob = bucket.blob(bucket_path)\n",
    "            blob.upload_from_string(image_content)\n",
    "\n",
    "        else:    \n",
    "            test.append(j)\n",
    "            \n",
    "            image_content = urllib.request.urlopen(pics_url[i][j]).read()\n",
    "            filename = f'price_class{i}_image_{j}_test.jpg'\n",
    "            bucket_path = os.path.join(var_value_test, filename)\n",
    "            \n",
    "            blob = bucket.blob(bucket_path)\n",
    "            blob.upload_from_string(image_content)\n",
    "    \n",
    "        \n",
    "    print(f'All done for batch {i}')"
   ]
  },
  {
   "cell_type": "code",
   "execution_count": 16,
   "id": "6104162e-54a0-4fa4-b240-109e28b194a0",
   "metadata": {},
   "outputs": [
    {
     "name": "stdout",
     "output_type": "stream",
     "text": [
      "168\n",
      "1062\n",
      "618\n",
      "93\n"
     ]
    }
   ],
   "source": [
    "print(len(pics_url[0]))\n",
    "print(len(pics_url[1]))\n",
    "print(len(pics_url[2]))\n",
    "print(len(pics_url[3]))"
   ]
  }
 ],
 "metadata": {
  "environment": {
   "kernel": "python3",
   "name": "tf2-gpu.2-8.m108",
   "type": "gcloud",
   "uri": "gcr.io/deeplearning-platform-release/tf2-gpu.2-8:m108"
  },
  "kernelspec": {
   "display_name": "Python 3 (ipykernel)",
   "language": "python",
   "name": "python3"
  },
  "language_info": {
   "codemirror_mode": {
    "name": "ipython",
    "version": 3
   },
   "file_extension": ".py",
   "mimetype": "text/x-python",
   "name": "python",
   "nbconvert_exporter": "python",
   "pygments_lexer": "ipython3",
   "version": "3.7.12"
  }
 },
 "nbformat": 4,
 "nbformat_minor": 5
}
